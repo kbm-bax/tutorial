{
 "cells": [
  {
   "cell_type": "code",
   "execution_count": null,
   "id": "0cfb57f4",
   "metadata": {
    "vscode": {
     "languageId": "plaintext"
    }
   },
   "outputs": [],
   "source": [
    "from pyspark.sql import SparkSession\n",
    "\n",
    "spark = SparkSession.builder.appName(\"Test Spark\").getOrCreate()\n",
    "df = spark.range(10).toDF(\"id\")\n",
    "df.show()\n",
    "spark.stop()\n"
   ]
  }
 ],
 "metadata": {
  "language_info": {
   "name": "python"
  }
 },
 "nbformat": 4,
 "nbformat_minor": 5
}

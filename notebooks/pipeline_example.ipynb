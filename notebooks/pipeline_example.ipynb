{
 "cells": [
  {
   "cell_type": "code",
   "execution_count": null,
   "id": "0181e72c",
   "metadata": {
    "vscode": {
     "languageId": "plaintext"
    }
   },
   "outputs": [],
   "source": [
    "from pyspark.sql import SparkSession\n",
    "from pyspark.sql.functions import col, lit\n",
    "from delta.tables import DeltaTable\n",
    "import os"
   ]
  },
  {
   "cell_type": "code",
   "execution_count": null,
   "id": "a75b01b6",
   "metadata": {
    "vscode": {
     "languageId": "plaintext"
    }
   },
   "outputs": [],
   "source": [
    "# Define MinIO settings from environment variables\n",
    "MINIO_HOST = os.environ.get(\"MINIO_HOST\")\n",
    "AWS_ACCESS_KEY_ID = os.environ.get(\"AWS_ACCESS_KEY_ID\")\n",
    "AWS_SECRET_ACCESS_KEY = os.environ.get(\"AWS_SECRET_ACCESS_KEY\")"
   ]
  },
  {
   "cell_type": "code",
   "execution_count": null,
   "id": "ae189655",
   "metadata": {
    "vscode": {
     "languageId": "plaintext"
    }
   },
   "outputs": [],
   "source": [
    "# Create Spark Session with Delta Lake and MinIO configurations\n",
    "spark = SparkSession.builder \\\n",
    "    .appName(\"Delta Lake Pipeline\") \\\n",
    "    .config(\"spark.sql.extensions\", \"io.delta.sql.DeltaSparkSessionExtension\") \\\n",
    "    .config(\"spark.sql.catalog.spark_catalog\", \"org.apache.spark.sql.delta.catalog.DeltaCatalog\") \\\n",
    "    .config(\"spark.hadoop.fs.s3a.endpoint\", MINIO_HOST) \\\n",
    "    .config(\"spark.hadoop.fs.s3a.access.key\", AWS_ACCESS_KEY_ID) \\\n",
    "    .config(\"spark.hadoop.fs.s3a.secret.key\", AWS_SECRET_ACCESS_KEY) \\\n",
    "    .config(\"spark.hadoop.fs.s3a.path.style.access\", \"true\") \\\n",
    "    .config(\"spark.hadoop.fs.s3a.impl\", \"org.apache.hadoop.fs.s3a.S3AFileSystem\") \\\n",
    "    .config(\"spark.jars.packages\", \"io.delta:delta-core_2.13:3.2.0\") \\\n",
    "    .getOrCreate()"
   ]
  },
  {
   "cell_type": "code",
   "execution_count": null,
   "id": "715eb597",
   "metadata": {
    "vscode": {
     "languageId": "plaintext"
    }
   },
   "outputs": [],
   "source": [
    "# Base path for the Delta tables in the MinIO bucket\n",
    "base_path = \"s3a://lake/deltalake/\""
   ]
  },
  {
   "cell_type": "code",
   "execution_count": null,
   "id": "889e6d63",
   "metadata": {
    "vscode": {
     "languageId": "plaintext"
    }
   },
   "outputs": [],
   "source": [
    "# --- Bronze Layer: Ingest raw data ---\n",
    "# Simulate new raw data coming in as a Spark DataFrame\n",
    "print(\"--- Ingesting raw data to Bronze layer ---\")\n",
    "raw_data = spark.createDataFrame(\n",
    "    [\n",
    "        (1, \"Alice\", \"New York\", \"2025-01-01\"),\n",
    "        (2, \"Bob\", \"Los Angeles\", \"2025-01-02\"),\n",
    "        (3, \"Charlie\", \"Chicago\", \"2025-01-03\")\n",
    "    ],\n",
    "    [\"id\", \"name\", \"location\", \"timestamp\"]\n",
    ")\n"
   ]
  },
  {
   "cell_type": "code",
   "execution_count": null,
   "id": "fef01b0b",
   "metadata": {
    "vscode": {
     "languageId": "plaintext"
    }
   },
   "outputs": [],
   "source": [
    "bronze_path = f\"{base_path}bronze/users/\"\n",
    "raw_data.write.format(\"delta\").mode(\"append\").save(bronze_path)\n",
    "print(\"Bronze table created/updated.\")\n"
   ]
  },
  {
   "cell_type": "code",
   "execution_count": null,
   "id": "95cb4919",
   "metadata": {
    "vscode": {
     "languageId": "plaintext"
    }
   },
   "outputs": [],
   "source": [
    "# --- Silver Layer: Clean and enrich data ---\n",
    "# Read the Bronze table\n",
    "print(\"\\n--- Processing data for Silver layer ---\")\n",
    "bronze_df = spark.read.format(\"delta\").load(bronze_path)"
   ]
  },
  {
   "cell_type": "code",
   "execution_count": null,
   "id": "49dcb86c",
   "metadata": {
    "vscode": {
     "languageId": "plaintext"
    }
   },
   "outputs": [],
   "source": [
    "# Perform a simple cleaning/enrichment step\n",
    "silver_df = bronze_df.withColumn(\"name\", col(\"name\").alias(\"user_name\")).drop(\"location\")\n",
    "\n",
    "silver_path = f\"{base_path}silver/users/\""
   ]
  },
  {
   "cell_type": "code",
   "execution_count": null,
   "id": "3572e169",
   "metadata": {
    "vscode": {
     "languageId": "plaintext"
    }
   },
   "outputs": [],
   "source": [
    "# Use MERGE for upserting data based on a key\n",
    "if DeltaTable.isDeltaTable(spark, silver_path):\n",
    "    delta_table = DeltaTable.forPath(spark, silver_path)\n",
    "    delta_table.alias(\"target\") \\\n",
    "        .merge(silver_df.alias(\"source\"), \"target.id = source.id\") \\\n",
    "        .whenMatchedUpdateAll() \\\n",
    "        .whenNotMatchedInsertAll() \\\n",
    "        .execute()\n",
    "    print(\"Silver table updated with a MERGE operation.\")\n",
    "else:\n",
    "    silver_df.write.format(\"delta\").mode(\"overwrite\").save(silver_path)\n",
    "    print(\"Silver table created.\")"
   ]
  },
  {
   "cell_type": "code",
   "execution_count": null,
   "id": "48703c52",
   "metadata": {
    "vscode": {
     "languageId": "plaintext"
    }
   },
   "outputs": [],
   "source": [
    "# --- Gold Layer: Aggregate for analytics ---\n",
    "# Read the Silver table\n",
    "print(\"\\n--- Aggregating data for Gold layer ---\")\n",
    "silver_df = spark.read.format(\"delta\").load(silver_path)"
   ]
  },
  {
   "cell_type": "code",
   "execution_count": null,
   "id": "8b85e7e2",
   "metadata": {
    "vscode": {
     "languageId": "plaintext"
    }
   },
   "outputs": [],
   "source": [
    "# Perform a simple aggregation\n",
    "gold_df = silver_df.groupBy(\"user_name\").count().alias(\"user_count\")\n",
    "\n",
    "gold_path = f\"{base_path}gold/user_summary/\"\n",
    "gold_df.write.format(\"delta\").mode(\"overwrite\").save(gold_path)\n",
    "print(\"Gold table created/updated.\")\n"
   ]
  },
  {
   "cell_type": "code",
   "execution_count": null,
   "id": "63f773a5",
   "metadata": {
    "vscode": {
     "languageId": "plaintext"
    }
   },
   "outputs": [],
   "source": [
    "# --- Time Travel and Query Gold Layer ---\n",
    "print(\"\\n--- Reading Gold table with Time Travel ---\")\n",
    "gold_table = DeltaTable.forPath(spark, gold_path)\n",
    "gold_history = gold_table.history()\n",
    "gold_history.show(truncate=False)"
   ]
  },
  {
   "cell_type": "code",
   "execution_count": null,
   "id": "32f570d0",
   "metadata": {
    "vscode": {
     "languageId": "plaintext"
    }
   },
   "outputs": [],
   "source": [
    "# Read the latest version\n",
    "print(\"Reading latest gold table:\")\n",
    "spark.read.format(\"delta\").load(gold_path).show()"
   ]
  },
  {
   "cell_type": "code",
   "execution_count": null,
   "id": "5dff4586",
   "metadata": {
    "vscode": {
     "languageId": "plaintext"
    }
   },
   "outputs": [],
   "source": [
    "# Read a previous version (if history exists)\n",
    "if gold_history.count() > 1:\n",
    "    old_version = gold_history.collect()[1][\"version\"]\n",
    "    print(f\"Reading an older version ({old_version}) of the gold table:\")\n",
    "    spark.read.format(\"delta\").option(\"versionAsOf\", old_version).load(gold_path).show()\n",
    "\n",
    "spark.stop()"
   ]
  }
 ],
 "metadata": {
  "language_info": {
   "name": "python"
  }
 },
 "nbformat": 4,
 "nbformat_minor": 5
}

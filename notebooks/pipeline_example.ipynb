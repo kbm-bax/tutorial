{
 "cells": [
  {
   "cell_type": "code",
   "execution_count": 1,
   "id": "0181e72c",
   "metadata": {},
   "outputs": [],
   "source": [
    "from pyspark.sql import SparkSession\n",
    "from pyspark.sql.functions import col, lit\n",
    "from delta.tables import DeltaTable\n",
    "import os"
   ]
  },
  {
   "cell_type": "code",
   "execution_count": 2,
   "id": "a75b01b6",
   "metadata": {},
   "outputs": [],
   "source": [
    "# Define MinIO settings from environment variables\n",
    "MINIO_HOST = os.environ.get(\"MINIO_HOST\")\n",
    "AWS_ACCESS_KEY_ID = \"minio\"\n",
    "AWS_SECRET_ACCESS_KEY = \"password\""
   ]
  },
  {
   "cell_type": "code",
   "execution_count": 3,
   "id": "ae189655",
   "metadata": {},
   "outputs": [],
   "source": [
    "# Create Spark Session with Delta Lake and MinIO configurations\n",
    "spark = SparkSession.builder \\\n",
    "    .appName(\"Delta Lake Pipeline\") \\\n",
    "    .config(\"spark.sql.extensions\", \"io.delta.sql.DeltaSparkSessionExtension\") \\\n",
    "    .config(\"spark.sql.catalog.spark_catalog\", \"org.apache.spark.sql.delta.catalog.DeltaCatalog\") \\\n",
    "    .config(\"spark.hadoop.fs.s3a.endpoint\", MINIO_HOST) \\\n",
    "    .config(\"spark.hadoop.fs.s3a.access.key\", AWS_ACCESS_KEY_ID) \\\n",
    "    .config(\"spark.hadoop.fs.s3a.secret.key\", AWS_SECRET_ACCESS_KEY) \\\n",
    "    .config(\"spark.hadoop.fs.s3a.path.style.access\", \"true\") \\\n",
    "    .config(\"spark.hadoop.fs.s3a.impl\", \"org.apache.hadoop.fs.s3a.S3AFileSystem\") \\\n",
    "    .config(\"spark.jars.packages\", \"io.delta:delta-core_2.12:3.2.0\") \\\n",
    "    .getOrCreate()"
   ]
  },
  {
   "cell_type": "code",
   "execution_count": 4,
   "id": "715eb597",
   "metadata": {},
   "outputs": [],
   "source": [
    "# Base path for the Delta tables in the MinIO bucket\n",
    "base_path = \"s3a://datalakehouse/deltalake/\""
   ]
  },
  {
   "cell_type": "code",
   "execution_count": 5,
   "id": "889e6d63",
   "metadata": {},
   "outputs": [
    {
     "name": "stdout",
     "output_type": "stream",
     "text": [
      "--- Ingesting raw data to Bronze layer ---\n"
     ]
    }
   ],
   "source": [
    "# --- Bronze Layer: Ingest raw data ---\n",
    "# Simulate new raw data coming in as a Spark DataFrame\n",
    "print(\"--- Ingesting raw data to Bronze layer ---\")\n",
    "raw_data = spark.createDataFrame(\n",
    "    [\n",
    "        (1, \"Alice\", \"New York\", \"2025-01-01\"),\n",
    "        (2, \"Bob\", \"Los Angeles\", \"2025-01-02\"),\n",
    "        (3, \"Charlie\", \"Chicago\", \"2025-01-03\")\n",
    "    ],\n",
    "    [\"id\", \"name\", \"location\", \"timestamp\"]\n",
    ")\n"
   ]
  },
  {
   "cell_type": "code",
   "execution_count": 6,
   "id": "fef01b0b",
   "metadata": {},
   "outputs": [
    {
     "name": "stdout",
     "output_type": "stream",
     "text": [
      "Bronze table created/updated.\n"
     ]
    }
   ],
   "source": [
    "bronze_path = f\"{base_path}bronze/users/\"\n",
    "raw_data.write.format(\"delta\").mode(\"overwrite\").save(bronze_path)\n",
    "print(\"Bronze table created/updated.\")\n"
   ]
  },
  {
   "cell_type": "code",
   "execution_count": 7,
   "id": "95cb4919",
   "metadata": {},
   "outputs": [
    {
     "name": "stdout",
     "output_type": "stream",
     "text": [
      "\n",
      "--- Processing data for Silver layer ---\n",
      "+---+-------+-----------+----------+\n",
      "| id|   name|   location| timestamp|\n",
      "+---+-------+-----------+----------+\n",
      "|  3|Charlie|    Chicago|2025-01-03|\n",
      "|  2|    Bob|Los Angeles|2025-01-02|\n",
      "|  1|  Alice|   New York|2025-01-01|\n",
      "+---+-------+-----------+----------+\n",
      "\n"
     ]
    }
   ],
   "source": [
    "# --- Silver Layer: Clean and enrich data ---\n",
    "# Read the Bronze table\n",
    "print(\"\\n--- Processing data for Silver layer ---\")\n",
    "bronze_df = spark.read.format(\"delta\").load(bronze_path)\n",
    "\n",
    "bronze_df.show()"
   ]
  },
  {
   "cell_type": "code",
   "execution_count": 8,
   "id": "49dcb86c",
   "metadata": {},
   "outputs": [
    {
     "name": "stdout",
     "output_type": "stream",
     "text": [
      "+---+-------+----------+\n",
      "| id|   name| timestamp|\n",
      "+---+-------+----------+\n",
      "|  3|Charlie|2025-01-03|\n",
      "|  2|    Bob|2025-01-02|\n",
      "|  1|  Alice|2025-01-01|\n",
      "+---+-------+----------+\n",
      "\n"
     ]
    }
   ],
   "source": [
    "# Perform a simple cleaning/enrichment step\n",
    "silver_df = bronze_df.withColumn(\"name\", col(\"name\").alias(\"user_name\")).drop(\"location\")\n",
    "\n",
    "silver_path = f\"{base_path}silver/users/\"\n",
    "\n",
    "silver_df.show()"
   ]
  },
  {
   "cell_type": "code",
   "execution_count": 9,
   "id": "3572e169",
   "metadata": {},
   "outputs": [
    {
     "name": "stdout",
     "output_type": "stream",
     "text": [
      "Silver table updated with a MERGE operation.\n",
      "+---+-------+----------+\n",
      "| id|   name| timestamp|\n",
      "+---+-------+----------+\n",
      "|  3|Charlie|2025-01-03|\n",
      "|  2|    Bob|2025-01-02|\n",
      "|  1|  Alice|2025-01-01|\n",
      "+---+-------+----------+\n",
      "\n"
     ]
    }
   ],
   "source": [
    "# Use MERGE for upserting data based on a key\n",
    "if DeltaTable.isDeltaTable(spark, silver_path):\n",
    "    delta_table = DeltaTable.forPath(spark, silver_path)\n",
    "    delta_table.alias(\"target\") \\\n",
    "        .merge(silver_df.alias(\"source\"), \"target.id = source.id\") \\\n",
    "        .whenMatchedUpdateAll() \\\n",
    "        .whenNotMatchedInsertAll() \\\n",
    "        .execute()\n",
    "    print(\"Silver table updated with a MERGE operation.\")\n",
    "else:\n",
    "    silver_df.write.format(\"delta\").mode(\"overwrite\").save(silver_path)\n",
    "    print(\"Silver table created.\")\n",
    "\n",
    "\n",
    "silver_df.show()"
   ]
  },
  {
   "cell_type": "code",
   "execution_count": 10,
   "id": "48703c52",
   "metadata": {},
   "outputs": [
    {
     "name": "stdout",
     "output_type": "stream",
     "text": [
      "\n",
      "--- Aggregating data for Gold layer ---\n"
     ]
    }
   ],
   "source": [
    "# --- Gold Layer: Aggregate for analytics ---\n",
    "# Read the Silver table\n",
    "print(\"\\n--- Aggregating data for Gold layer ---\")\n",
    "silver_df = spark.read.format(\"delta\").load(silver_path)"
   ]
  },
  {
   "cell_type": "code",
   "execution_count": 11,
   "id": "8b85e7e2",
   "metadata": {},
   "outputs": [
    {
     "name": "stdout",
     "output_type": "stream",
     "text": [
      "Gold table created/updated.\n",
      "+-------+-----+\n",
      "|   name|count|\n",
      "+-------+-----+\n",
      "|Charlie|    1|\n",
      "|    Bob|    1|\n",
      "|  Alice|    1|\n",
      "+-------+-----+\n",
      "\n"
     ]
    }
   ],
   "source": [
    "# Perform a simple aggregation\n",
    "gold_df = silver_df.groupBy(\"name\").count().alias(\"user_count\")\n",
    "\n",
    "gold_path = f\"{base_path}gold/user_summary/\"\n",
    "gold_df.write.format(\"delta\").mode(\"overwrite\").save(gold_path)\n",
    "print(\"Gold table created/updated.\")\n",
    "\n",
    "gold_df.show()\n"
   ]
  },
  {
   "cell_type": "code",
   "execution_count": 12,
   "id": "63f773a5",
   "metadata": {},
   "outputs": [
    {
     "name": "stdout",
     "output_type": "stream",
     "text": [
      "\n",
      "--- Reading Gold table with Time Travel ---\n",
      "+-------+-------------------+------+--------+---------+--------------------------------------+----+--------+---------+-----------+--------------+-------------+----------------------------------------------------------+------------+-----------------------------------+\n",
      "|version|timestamp          |userId|userName|operation|operationParameters                   |job |notebook|clusterId|readVersion|isolationLevel|isBlindAppend|operationMetrics                                          |userMetadata|engineInfo                         |\n",
      "+-------+-------------------+------+--------+---------+--------------------------------------+----+--------+---------+-----------+--------------+-------------+----------------------------------------------------------+------------+-----------------------------------+\n",
      "|1      |2025-09-29 14:20:54|NULL  |NULL    |WRITE    |{mode -> Overwrite, partitionBy -> []}|NULL|NULL    |NULL     |0          |Serializable  |false        |{numFiles -> 1, numOutputRows -> 3, numOutputBytes -> 771}|NULL        |Apache-Spark/3.5.0 Delta-Lake/3.2.0|\n",
      "|0      |2025-09-29 13:02:56|NULL  |NULL    |WRITE    |{mode -> Overwrite, partitionBy -> []}|NULL|NULL    |NULL     |NULL       |Serializable  |false        |{numFiles -> 1, numOutputRows -> 3, numOutputBytes -> 771}|NULL        |Apache-Spark/3.5.0 Delta-Lake/3.2.0|\n",
      "+-------+-------------------+------+--------+---------+--------------------------------------+----+--------+---------+-----------+--------------+-------------+----------------------------------------------------------+------------+-----------------------------------+\n",
      "\n"
     ]
    }
   ],
   "source": [
    "# --- Time Travel and Query Gold Layer ---\n",
    "print(\"\\n--- Reading Gold table with Time Travel ---\")\n",
    "gold_table = DeltaTable.forPath(spark, gold_path)\n",
    "gold_history = gold_table.history()\n",
    "gold_history.show(truncate=False)"
   ]
  },
  {
   "cell_type": "code",
   "execution_count": 13,
   "id": "32f570d0",
   "metadata": {},
   "outputs": [
    {
     "name": "stdout",
     "output_type": "stream",
     "text": [
      "Reading latest gold table:\n",
      "+-------+-----+\n",
      "|   name|count|\n",
      "+-------+-----+\n",
      "|Charlie|    1|\n",
      "|    Bob|    1|\n",
      "|  Alice|    1|\n",
      "+-------+-----+\n",
      "\n"
     ]
    }
   ],
   "source": [
    "# Read the latest version\n",
    "print(\"Reading latest gold table:\")\n",
    "spark.read.format(\"delta\").load(gold_path).show()"
   ]
  },
  {
   "cell_type": "code",
   "execution_count": 14,
   "id": "5dff4586",
   "metadata": {},
   "outputs": [
    {
     "name": "stdout",
     "output_type": "stream",
     "text": [
      "Reading an older version (0) of the gold table:\n",
      "+-------+-----+\n",
      "|   name|count|\n",
      "+-------+-----+\n",
      "|Charlie|    1|\n",
      "|  Alice|    1|\n",
      "|    Bob|    1|\n",
      "+-------+-----+\n",
      "\n"
     ]
    }
   ],
   "source": [
    "# Read a previous version (if history exists)\n",
    "if gold_history.count() > 1:\n",
    "    old_version = gold_history.collect()[1][\"version\"]\n",
    "    print(f\"Reading an older version ({old_version}) of the gold table:\")\n",
    "    spark.read.format(\"delta\").option(\"versionAsOf\", old_version).load(gold_path).show()\n",
    "\n",
    "spark.stop()"
   ]
  }
 ],
 "metadata": {
  "kernelspec": {
   "display_name": "Python 3 (ipykernel)",
   "language": "python",
   "name": "python3"
  },
  "language_info": {
   "codemirror_mode": {
    "name": "ipython",
    "version": 3
   },
   "file_extension": ".py",
   "mimetype": "text/x-python",
   "name": "python",
   "nbconvert_exporter": "python",
   "pygments_lexer": "ipython3",
   "version": "3.11.6"
  }
 },
 "nbformat": 4,
 "nbformat_minor": 5
}
